{
 "cells": [
  {
   "cell_type": "code",
   "execution_count": 1,
   "id": "ce168e31",
   "metadata": {},
   "outputs": [],
   "source": [
    "from scipy.stats import hypergeom\n",
    "import numpy as np\n",
    "from gaste_test import get_pval_comb\n",
    "from tqdm import tqdm"
   ]
  },
  {
   "cell_type": "code",
   "execution_count": 2,
   "id": "9799b530",
   "metadata": {},
   "outputs": [
    {
     "name": "stderr",
     "output_type": "stream",
     "text": [
      "100%|██████████| 1000/1000 [10:26<00:00,  1.60it/s]\n"
     ]
    },
    {
     "name": "stdout",
     "output_type": "stream",
     "text": [
      "0.047 0.054\n"
     ]
    },
    {
     "name": "stderr",
     "output_type": "stream",
     "text": [
      "100%|██████████| 1000/1000 [06:12<00:00,  2.69it/s]\n"
     ]
    },
    {
     "name": "stdout",
     "output_type": "stream",
     "text": [
      "0.044 0.051\n"
     ]
    },
    {
     "name": "stderr",
     "output_type": "stream",
     "text": [
      "100%|██████████| 1000/1000 [08:34<00:00,  1.94it/s]"
     ]
    },
    {
     "name": "stdout",
     "output_type": "stream",
     "text": [
      "0.048 0.069\n"
     ]
    },
    {
     "name": "stderr",
     "output_type": "stream",
     "text": [
      "\n"
     ]
    }
   ],
   "source": [
    "def simu_null_model(range_margins_A, range_margins_B):\n",
    "    N = 100\n",
    "    nb_simu=1000 \n",
    "    nb_strat = 100\n",
    "    all_comb_under = []\n",
    "    all_comb_over = []\n",
    "    min_A, max_A = range_margins_A\n",
    "    min_B, max_B = range_margins_B\n",
    "    for _ in tqdm(range(nb_simu)):\n",
    "        pval_over, pval_under, params = [], [], []\n",
    "        for _ in range(nb_strat):\n",
    "            nA = np.random.randint(min_A, max_A)\n",
    "            nB = np.random.randint(min_B, max_B)\n",
    "            occ_A = np.random.choice(range(N), nA, replace=False)\n",
    "            occ_B = np.random.choice(range(N), nB, replace=False)\n",
    "            occ_A_B = len(set(occ_A) & set(occ_B))\n",
    "            params.append((N, nA, nB, occ_A_B))\n",
    "            pval_under.append(hypergeom.cdf(\n",
    "                occ_A_B, N, nA, nB\n",
    "            ))\n",
    "            pval_over.append(hypergeom.sf(\n",
    "                occ_A_B-1, N, nA, nB\n",
    "            ))\n",
    "\n",
    "        comb_pval_under = get_pval_comb(params, pval_under,\"under\", tau=1, moment=2)\n",
    "        comb_pval_over = get_pval_comb(params, pval_over,\"over\", tau=1, moment=2)\n",
    "        all_comb_under.append(comb_pval_under)\n",
    "        all_comb_over.append(comb_pval_over)\n",
    "    all_comb_under = np.array(all_comb_under)\n",
    "    all_comb_over = np.array(all_comb_over)\n",
    "    print(np.mean(all_comb_under<=0.05), np.mean(all_comb_over<=0.05))\n",
    "    return all_comb_under, all_comb_over\n",
    "\n",
    "# Example usage\n",
    "all_comb_under_mid, all_comb_over_mid = simu_null_model((10, 90), (10, 90))\n",
    "all_comb_under_low, all_comb_over_low= simu_null_model((2, 20), (2,20))\n",
    "all_comb_under_high, all_comb_over_high = simu_null_model((70, 90), (70, 90)) "
   ]
  },
  {
   "cell_type": "code",
   "execution_count": 7,
   "id": "9c4efd64",
   "metadata": {},
   "outputs": [
    {
     "data": {
      "text/plain": [
       "np.float64(0.0)"
      ]
     },
     "execution_count": 7,
     "metadata": {},
     "output_type": "execute_result"
    }
   ],
   "source": [
    "from statsmodels.stats.multitest import multipletests\n",
    "def get_fdr_corrected_pvals(pvals):\n",
    "    _, corrected_pvals, _, _ = multipletests(pvals, method='fdr_bh')\n",
    "    return corrected_pvals\n",
    "corrected_over_mid = get_fdr_corrected_pvals(all_comb_under_mid)\n",
    "np.mean(corrected_over_mid<=0.05)"
   ]
  }
 ],
 "metadata": {
  "kernelspec": {
   "display_name": "venv",
   "language": "python",
   "name": "python3"
  },
  "language_info": {
   "codemirror_mode": {
    "name": "ipython",
    "version": 3
   },
   "file_extension": ".py",
   "mimetype": "text/x-python",
   "name": "python",
   "nbconvert_exporter": "python",
   "pygments_lexer": "ipython3",
   "version": "3.10.12"
  }
 },
 "nbformat": 4,
 "nbformat_minor": 5
}
